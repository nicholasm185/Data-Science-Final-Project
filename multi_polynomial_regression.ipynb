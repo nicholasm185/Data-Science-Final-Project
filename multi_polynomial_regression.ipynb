{
 "metadata": {
  "language_info": {
   "codemirror_mode": {
    "name": "ipython",
    "version": 3
   },
   "file_extension": ".py",
   "mimetype": "text/x-python",
   "name": "python",
   "nbconvert_exporter": "python",
   "pygments_lexer": "ipython3",
   "version": "3.9.1-final"
  },
  "orig_nbformat": 2,
  "kernelspec": {
   "name": "python3",
   "display_name": "Python 3.9.1 64-bit",
   "metadata": {
    "interpreter": {
     "hash": "9beb8284e466af73cdb79463a4d5095333766300a79b0b1d97c409c566cb4ade"
    }
   }
  }
 },
 "nbformat": 4,
 "nbformat_minor": 2,
 "cells": [
  {
   "cell_type": "code",
   "execution_count": 1,
   "metadata": {},
   "outputs": [],
   "source": [
    "import numpy as np\n",
    "import matplotlib.pyplot as plt\n",
    "\n",
    "import pandas as pd\n",
    "\n",
    "from sklearn.linear_model import Ridge\n",
    "from sklearn.linear_model import LinearRegression\n",
    "from sklearn.preprocessing import PolynomialFeatures\n",
    "from sklearn.pipeline import make_pipeline\n",
    "from sklearn import linear_model\n",
    "from sklearn.model_selection import train_test_split\n",
    "from sklearn.metrics import mean_squared_error\n",
    "from sklearn.metrics import r2_score"
   ]
  },
  {
   "cell_type": "code",
   "execution_count": 2,
   "metadata": {},
   "outputs": [
    {
     "output_type": "stream",
     "name": "stdout",
     "text": [
      "     Manufacturer                           Model Name            Category  \\\n0           Apple                          MacBook Pro           Ultrabook   \n1           Apple                          Macbook Air           Ultrabook   \n2              HP                               250 G6            Notebook   \n3           Apple                          MacBook Pro           Ultrabook   \n4           Apple                          MacBook Pro           Ultrabook   \n...           ...                                  ...                 ...   \n1297       Lenovo                       Yoga 500-14ISK  2 in 1 Convertible   \n1298       Lenovo                       Yoga 900-13ISK  2 in 1 Convertible   \n1299       Lenovo                   IdeaPad 100S-14IBR            Notebook   \n1300           HP  15-AC110nv (i7-6500U/6GB/1TB/Radeon            Notebook   \n1301         Asus  X553SA-XX031T (N3050/4GB/500GB/W10)            Notebook   \n\n      Screen Size                           GPU Operating System  \\\n0            13.3  Intel Iris Plus Graphics 640            macOS   \n1            13.3        Intel HD Graphics 6000            macOS   \n2            15.6         Intel HD Graphics 620            No OS   \n3            15.4            AMD Radeon Pro 455            macOS   \n4            13.3  Intel Iris Plus Graphics 650            macOS   \n...           ...                           ...              ...   \n1297         14.0         Intel HD Graphics 520          Windows   \n1298         13.3         Intel HD Graphics 520          Windows   \n1299         14.0             Intel HD Graphics          Windows   \n1300         15.6            AMD Radeon R5 M330          Windows   \n1301         15.6             Intel HD Graphics          Windows   \n\n     Operating System Version  Weight  Price (Euros) Resolution  ...  \\\n0                         NaN  1.37kg           1339  2560x1600  ...   \n1                         NaN  1.34kg            898   1440x900  ...   \n2                         NaN  1.86kg            575  1920x1080  ...   \n3                         NaN  1.83kg           2537  2880x1800  ...   \n4                         NaN  1.37kg           1803  2560x1600  ...   \n...                       ...     ...            ...        ...  ...   \n1297                       10   1.8kg            638  1920x1080  ...   \n1298                       10   1.3kg           1499  3200x1800  ...   \n1299                       10   1.5kg            229   1366x768  ...   \n1300                       10  2.19kg            764   1366x768  ...   \n1301                       10   2.2kg            369   1366x768  ...   \n\n     HYBRID_CAPACITY  TOTAL_STORAGE  Unnamed: 0.1  Brand  Clockspeed  Model  \\\n0                  0            128             0  Intel         2.3    NaN   \n1                  0            128             1  Intel         1.8    NaN   \n2                  0            256             2  Intel         2.5    NaN   \n3                  0            512             3  Intel         2.7    NaN   \n4                  0            256             4  Intel         3.1    NaN   \n...              ...            ...           ...    ...         ...    ...   \n1297               0            128          1298  Intel         2.5    NaN   \n1298               0            512          1299  Intel         2.5    NaN   \n1299               0             64          1300  Intel         1.6    NaN   \n1300               0           1000          1301  Intel         2.5    NaN   \n1301               0            500          1302  Intel         1.6    NaN   \n\n                       Series  Width  Height  fullRes  \n0                     Core i5   2560    1600  4096000  \n1                     Core i5   1440     900  1296000  \n2               Core i5 7200U   1920    1080  2073600  \n3                     Core i7   2880    1800  5184000  \n4                     Core i5   2560    1600  4096000  \n...                       ...    ...     ...      ...  \n1297            Core i7 6500U   1920    1080  2073600  \n1298            Core i7 6500U   3200    1800  5760000  \n1299  Celeron Dual Core N3050   1366     768  1049088  \n1300            Core i7 6500U   1366     768  1049088  \n1301  Celeron Dual Core N3050   1366     768  1049088  \n\n[1302 rows x 27 columns]\n"
     ]
    }
   ],
   "source": [
    "df = pd.read_csv(\"very_clean_data.csv\")\n",
    "df = df.drop(columns=['Unnamed: 0'])\n",
    "print(df)"
   ]
  },
  {
   "cell_type": "code",
   "execution_count": 3,
   "metadata": {},
   "outputs": [
    {
     "output_type": "execute_result",
     "data": {
      "text/plain": [
       "array(['Ultrabook', 'Notebook', 'Netbook', 'Gaming', '2 in 1 Convertible',\n",
       "       'Workstation'], dtype=object)"
      ]
     },
     "metadata": {},
     "execution_count": 3
    }
   ],
   "source": [
    "df.Category.unique()"
   ]
  },
  {
   "cell_type": "code",
   "execution_count": 4,
   "metadata": {},
   "outputs": [],
   "source": [
    "Ultrabook = df.loc[df['Category'] == 'Ultrabook']\n",
    "Notebook = df.loc[df['Category'] == 'Notebook']\n",
    "Netbook = df.loc[df['Category'] == 'Netbook']\n",
    "Gaming = df.loc[df['Category'] == 'Gaming']\n",
    "Convertible = df.loc[df['Category'] == '2 in 1 Convertible']\n",
    "Workstation = df.loc[df['Category'] == 'Workstation']"
   ]
  },
  {
   "cell_type": "code",
   "execution_count": 5,
   "metadata": {},
   "outputs": [],
   "source": [
    "def getSSE(predicion, fact):\n",
    "    total = 0\n",
    "    for i in range(len(ultra_pred)):\n",
    "        temp = (ultra_pred[i] - ultra_y_test[i])**2\n",
    "        total += temp\n",
    "    return total"
   ]
  },
  {
   "cell_type": "code",
   "execution_count": 6,
   "metadata": {},
   "outputs": [],
   "source": [
    "results = pd.DataFrame()"
   ]
  },
  {
   "cell_type": "code",
   "execution_count": 7,
   "metadata": {},
   "outputs": [
    {
     "output_type": "stream",
     "name": "stdout",
     "text": [
      "MSE           SSE           R2           \n141696.313077 8360082.471515 0.418513    \n"
     ]
    }
   ],
   "source": [
    "# Ultrabook\n",
    "ultra_x = Ultrabook[['RAM', 'fullRes', 'Clockspeed']].values\n",
    "ultra_y = Ultrabook['Price (Euros)'].values\n",
    "ultra_x_train, ultra_x_test, ultra_y_train, ultra_y_test = train_test_split(ultra_x, ultra_y, test_size = 0.3, random_state = 2201798761)\n",
    "degree = 3\n",
    "ultra_model = make_pipeline(PolynomialFeatures(degree), LinearRegression())\n",
    "ultra_model.fit(ultra_x_train, ultra_y_train)\n",
    "\n",
    "ultra_pred = ultra_model.predict(ultra_x_test)\n",
    "ultra_mse = mean_squared_error(ultra_y_test, ultra_pred)\n",
    "ultra_sse = getSSE(ultra_pred, ultra_y_test)\n",
    "ultra_r2 = r2_score(ultra_y_test, ultra_pred)\n",
    "print('{:13}'.format('MSE'), '{:13}'.format('SSE'), '{:13}'.format('R2'))\n",
    "print('{:12f}'.format(ultra_mse), '{:12f}'.format(ultra_sse), '{:<12f}'.format(ultra_r2))"
   ]
  },
  {
   "cell_type": "code",
   "execution_count": 8,
   "metadata": {},
   "outputs": [
    {
     "output_type": "stream",
     "name": "stdout",
     "text": [
      "MSE           SSE           R2           \n257636.618864 8360082.471515 0.040150    \n"
     ]
    }
   ],
   "source": [
    "# Notebook\n",
    "note_x = Notebook[['RAM', 'fullRes', 'Clockspeed']].values\n",
    "note_y = Notebook['Price (Euros)'].values\n",
    "note_x_train, note_x_test, note_y_train, note_y_test = train_test_split(note_x, note_y, test_size = 0.3, random_state = 2201798761)\n",
    "degree = 3\n",
    "note_model = make_pipeline(PolynomialFeatures(degree), LinearRegression())\n",
    "note_model.fit(note_x_train, note_y_train)\n",
    "\n",
    "note_pred = note_model.predict(note_x_test)\n",
    "note_mse = mean_squared_error(note_y_test, note_pred)\n",
    "note_sse = getSSE(note_pred, note_y_test)\n",
    "note_r2 = r2_score(note_y_test, note_pred)\n",
    "print('{:13}'.format('MSE'), '{:13}'.format('SSE'), '{:13}'.format('R2'))\n",
    "print('{:12f}'.format(note_mse), '{:12f}'.format(note_sse), '{:<12f}'.format(note_r2))\n"
   ]
  },
  {
   "cell_type": "code",
   "execution_count": 9,
   "metadata": {},
   "outputs": [
    {
     "output_type": "stream",
     "name": "stdout",
     "text": [
      "MSE           SSE           R2           \n428464.306207 8360082.471515 -1.062109   \n"
     ]
    }
   ],
   "source": [
    "# Netbook\n",
    "net_x = Netbook[['RAM', 'fullRes', 'Clockspeed']].values\n",
    "net_y = Netbook['Price (Euros)'].values\n",
    "net_x_train, net_x_test, net_y_train, net_y_test = train_test_split(net_x, net_y, test_size = 0.3, random_state = 2201798761)\n",
    "degree = 3\n",
    "net_model = make_pipeline(PolynomialFeatures(degree), LinearRegression())\n",
    "net_model.fit(net_x_train, net_y_train)\n",
    "\n",
    "net_pred = net_model.predict(net_x_test)\n",
    "net_mse = mean_squared_error(net_y_test, net_pred)\n",
    "net_sse = getSSE(net_pred, net_y_test)\n",
    "net_r2 = r2_score(net_y_test, net_pred)\n",
    "print('{:13}'.format('MSE'), '{:13}'.format('SSE'), '{:13}'.format('R2'))\n",
    "print('{:12f}'.format(net_mse), '{:12f}'.format(net_sse), '{:<12f}'.format(net_r2))"
   ]
  },
  {
   "cell_type": "code",
   "execution_count": 10,
   "metadata": {},
   "outputs": [
    {
     "output_type": "stream",
     "name": "stdout",
     "text": [
      "MSE           SSE           R2           \n198407.089186 8360082.471515 0.736083    \n"
     ]
    }
   ],
   "source": [
    "# Gaming\n",
    "game_x = Gaming[['RAM', 'fullRes', 'Clockspeed']].values\n",
    "game_y = Gaming['Price (Euros)'].values\n",
    "game_x_train, game_x_test, game_y_train, game_y_test = train_test_split(game_x, game_y, test_size = 0.3, random_state = 2201798761)\n",
    "degree = 3\n",
    "game_model = make_pipeline(PolynomialFeatures(degree), LinearRegression())\n",
    "game_model.fit(game_x_train, game_y_train)\n",
    "\n",
    "game_pred = game_model.predict(game_x_test)\n",
    "game_mse = mean_squared_error(game_y_test, game_pred)\n",
    "game_sse = getSSE(game_pred, game_y_test)\n",
    "game_r2 = r2_score(game_y_test, game_pred)\n",
    "print('{:13}'.format('MSE'), '{:13}'.format('SSE'), '{:13}'.format('R2'))\n",
    "print('{:12f}'.format(game_mse), '{:12f}'.format(game_sse), '{:<12f}'.format(game_r2))"
   ]
  },
  {
   "cell_type": "code",
   "execution_count": 11,
   "metadata": {},
   "outputs": [
    {
     "output_type": "stream",
     "name": "stdout",
     "text": [
      "MSE           SSE           R2           \n177442.699770 8360082.471515 0.425727    \n"
     ]
    }
   ],
   "source": [
    "# Convertible\n",
    "conv_x = Convertible[['RAM', 'fullRes', 'Clockspeed']].values\n",
    "conv_y = Convertible['Price (Euros)'].values\n",
    "conv_x_train, conv_x_test, conv_y_train, conv_y_test = train_test_split(conv_x, conv_y, test_size = 0.3, random_state = 2201798761)\n",
    "degree = 3\n",
    "conv_model = make_pipeline(PolynomialFeatures(degree), LinearRegression())\n",
    "conv_model.fit(conv_x_train, conv_y_train)\n",
    "\n",
    "conv_pred = conv_model.predict(conv_x_test)\n",
    "conv_mse = mean_squared_error(conv_y_test, conv_pred)\n",
    "conv_sse = getSSE(conv_pred, conv_y_test)\n",
    "conv_r2 = r2_score(conv_y_test, conv_pred)\n",
    "print('{:13}'.format('MSE'), '{:13}'.format('SSE'), '{:13}'.format('R2'))\n",
    "print('{:12f}'.format(conv_mse), '{:12f}'.format(conv_sse), '{:<12f}'.format(conv_r2))"
   ]
  },
  {
   "cell_type": "code",
   "execution_count": 12,
   "metadata": {},
   "outputs": [
    {
     "output_type": "stream",
     "name": "stdout",
     "text": [
      "MSE           SSE           R2           \n2591789024.305634 8360082.471515 -11495.217501\n[  2776.98327653   2043.31328825   2443.27639271 155433.04795952\n   2776.98327653   2043.31328825   2114.65676588   3216.84916207\n   2043.31328825]\n[2338 1925 3299 2712 1975 1778 2135 2419 1738]\n"
     ]
    }
   ],
   "source": [
    "# Workstation\n",
    "work_x = Workstation[['RAM', 'fullRes', 'Clockspeed']].values\n",
    "work_y = Workstation['Price (Euros)'].values\n",
    "work_x_train, work_x_test, work_y_train, work_y_test = train_test_split(work_x, work_y, test_size = 0.3, random_state = 2201798761)\n",
    "degree = 3\n",
    "work_model = make_pipeline(PolynomialFeatures(degree), LinearRegression())\n",
    "work_model.fit(work_x_train, work_y_train)\n",
    "\n",
    "work_pred = work_model.predict(work_x_test)\n",
    "work_mse = mean_squared_error(work_y_test, work_pred)\n",
    "work_sse = getSSE(work_pred, work_y_test)\n",
    "work_r2 = r2_score(work_y_test, work_pred)\n",
    "print('{:13}'.format('MSE'), '{:13}'.format('SSE'), '{:13}'.format('R2'))\n",
    "print('{:12f}'.format(work_mse), '{:12f}'.format(work_sse), '{:<12f}'.format(work_r2))\n",
    "\n",
    "print(work_pred)\n",
    "print(work_y_test)"
   ]
  }
 ]
}