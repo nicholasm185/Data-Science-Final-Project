{
 "metadata": {
  "language_info": {
   "codemirror_mode": {
    "name": "ipython",
    "version": 3
   },
   "file_extension": ".py",
   "mimetype": "text/x-python",
   "name": "python",
   "nbconvert_exporter": "python",
   "pygments_lexer": "ipython3",
   "version": "3.8.5-final"
  },
  "orig_nbformat": 2,
  "kernelspec": {
   "name": "Python 3.8.5 64-bit",
   "display_name": "Python 3.8.5 64-bit",
   "metadata": {
    "interpreter": {
     "hash": "89234711d9e19ac2cb6bfdd82fd988d65e8d4192ffb80769dfc7a11dc15e5056"
    }
   }
  }
 },
 "nbformat": 4,
 "nbformat_minor": 2,
 "cells": [
  {
   "source": [
    "import pandas as pd"
   ],
   "cell_type": "code",
   "metadata": {},
   "execution_count": 11,
   "outputs": []
  },
  {
   "cell_type": "code",
   "execution_count": 12,
   "metadata": {},
   "outputs": [],
   "source": [
    "data = pd.read_csv(\"laptops.csv\", encoding=\"latin-1\")"
   ]
  },
  {
   "cell_type": "code",
   "execution_count": 13,
   "metadata": {},
   "outputs": [
    {
     "output_type": "stream",
     "name": "stdout",
     "text": [
      "     Manufacturer                           Model Name            Category  \\\n0           Apple                          MacBook Pro           Ultrabook   \n1           Apple                          Macbook Air           Ultrabook   \n2              HP                               250 G6            Notebook   \n3           Apple                          MacBook Pro           Ultrabook   \n4           Apple                          MacBook Pro           Ultrabook   \n...           ...                                  ...                 ...   \n1298       Lenovo                       Yoga 500-14ISK  2 in 1 Convertible   \n1299       Lenovo                       Yoga 900-13ISK  2 in 1 Convertible   \n1300       Lenovo                   IdeaPad 100S-14IBR            Notebook   \n1301           HP  15-AC110nv (i7-6500U/6GB/1TB/Radeon            Notebook   \n1302         Asus  X553SA-XX031T (N3050/4GB/500GB/W10)            Notebook   \n\n     Screen Size                                      Screen  \\\n0          13.3\"          IPS Panel Retina Display 2560x1600   \n1          13.3\"                                    1440x900   \n2          15.6\"                           Full HD 1920x1080   \n3          15.4\"          IPS Panel Retina Display 2880x1800   \n4          13.3\"          IPS Panel Retina Display 2560x1600   \n...          ...                                         ...   \n1298       14.0\"   IPS Panel Full HD / Touchscreen 1920x1080   \n1299       13.3\"  IPS Panel Quad HD+ / Touchscreen 3200x1800   \n1300       14.0\"                                    1366x768   \n1301       15.6\"                                    1366x768   \n1302       15.6\"                                    1366x768   \n\n                                       CPU   RAM              Storage  \\\n0                     Intel Core i5 2.3GHz   8GB            128GB SSD   \n1                     Intel Core i5 1.8GHz   8GB  128GB Flash Storage   \n2               Intel Core i5 7200U 2.5GHz   8GB            256GB SSD   \n3                     Intel Core i7 2.7GHz  16GB            512GB SSD   \n4                     Intel Core i5 3.1GHz   8GB            256GB SSD   \n...                                    ...   ...                  ...   \n1298            Intel Core i7 6500U 2.5GHz   4GB            128GB SSD   \n1299            Intel Core i7 6500U 2.5GHz  16GB            512GB SSD   \n1300  Intel Celeron Dual Core N3050 1.6GHz   2GB   64GB Flash Storage   \n1301            Intel Core i7 6500U 2.5GHz   6GB              1TB HDD   \n1302  Intel Celeron Dual Core N3050 1.6GHz   4GB            500GB HDD   \n\n                               GPU Operating System Operating System Version  \\\n0     Intel Iris Plus Graphics 640            macOS                      NaN   \n1           Intel HD Graphics 6000            macOS                      NaN   \n2            Intel HD Graphics 620            No OS                      NaN   \n3               AMD Radeon Pro 455            macOS                      NaN   \n4     Intel Iris Plus Graphics 650            macOS                      NaN   \n...                            ...              ...                      ...   \n1298         Intel HD Graphics 520          Windows                       10   \n1299         Intel HD Graphics 520          Windows                       10   \n1300             Intel HD Graphics          Windows                       10   \n1301            AMD Radeon R5 M330          Windows                       10   \n1302             Intel HD Graphics          Windows                       10   \n\n      Weight Price (Euros)  \n0     1.37kg       1339,69  \n1     1.34kg        898,94  \n2     1.86kg        575,00  \n3     1.83kg       2537,45  \n4     1.37kg       1803,60  \n...      ...           ...  \n1298   1.8kg        638,00  \n1299   1.3kg       1499,00  \n1300   1.5kg        229,00  \n1301  2.19kg        764,00  \n1302   2.2kg        369,00  \n\n[1303 rows x 13 columns]\n"
     ]
    }
   ],
   "source": [
    "print(data)"
   ]
  },
  {
   "cell_type": "code",
   "execution_count": 14,
   "metadata": {},
   "outputs": [
    {
     "output_type": "stream",
     "name": "stdout",
     "text": [
      "Index(['Manufacturer', 'Model Name', 'Category', 'Screen Size', 'Screen',\n       'CPU', 'RAM', ' Storage', 'GPU', 'Operating System',\n       'Operating System Version', 'Weight', 'Price (Euros)'],\n      dtype='object')\n"
     ]
    }
   ],
   "source": [
    "print(data.columns)"
   ]
  },
  {
   "cell_type": "code",
   "execution_count": 16,
   "metadata": {},
   "outputs": [
    {
     "output_type": "stream",
     "name": "stdout",
     "text": [
      "6\n"
     ]
    }
   ],
   "source": [
    "print(data['Category'].nunique())"
   ]
  },
  {
   "cell_type": "code",
   "execution_count": null,
   "metadata": {},
   "outputs": [],
   "source": []
  }
 ]
}